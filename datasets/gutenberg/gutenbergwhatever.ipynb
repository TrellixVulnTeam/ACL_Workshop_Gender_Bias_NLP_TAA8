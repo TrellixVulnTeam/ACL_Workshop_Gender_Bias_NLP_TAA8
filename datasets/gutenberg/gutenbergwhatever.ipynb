{
 "cells": [
  {
   "cell_type": "code",
   "execution_count": 2,
   "metadata": {},
   "outputs": [],
   "source": [
    "import pandas as pd\n",
    "gutenberg_1000 = pd.read_csv(r'C:\\Users\\Y\\Documents\\MILA\\ACL_Workshop_Gender_Bias_NLP\\datasets\\gutenberg\\results_1000_gutenberg.csv')\n",
    "gutenber_candidates = pd.read_csv(r'C:\\Users\\Y\\Documents\\MILA\\ACL_Workshop_Gender_Bias_NLP\\datasets\\gutenberg\\gutenberg_to_label.csv')"
   ]
  },
  {
   "cell_type": "code",
   "execution_count": 26,
   "metadata": {},
   "outputs": [],
   "source": [
    "gutenberg_figure = gutenberg_1000['sentence'].tolist()\n",
    "gutenberg_all = gutenber_candidates['Sentence'].tolist()\n",
    "duplicates = []\n",
    "tolabel = []\n",
    "\n",
    "for i in range(0, len(gutenberg_all)):\n",
    "    if gutenberg_all[i] not in gutenberg_figure:\n",
    "        tolabel.append(gutenberg_all[i]);\n",
    " \n",
    "        "
   ]
  },
  {
   "cell_type": "code",
   "execution_count": 27,
   "metadata": {},
   "outputs": [
    {
     "name": "stdout",
     "output_type": "stream",
     "text": [
      "['Nothing appears more plausible at first sight, nor more ill-founded upon close inspection, than a scheme which in relation to the present point has had some respectable advocates--I mean that of continuing the chief magistrate in office for a certain time, and then excluding him from it, either for a limited period or forever after.', \"Now lift the patient's feet over the roll of fresh and soiled linen to the freshly made part, then have her roll her body over that side.\", 'Now, I said, if you will take the trouble to move that wood pile you will find in it the remains of the rabbit half devoured and the mink himself.', 'Nowadays a man is bound at his peril to keep his cattle from trespassing, and he is liable for damage done by his dog or by any fierce animal, if he has notice of a tendency in the brute to do the harm complained of.', 'Occasionally, a wingless queen is so bent on emigrating, that in spite of her inability to fly, she tries to go off with a swarm; she has a will, but contrary to the old maxim she can find no way, but helplessly falls upon the ground instead of gaily mounting into the air.', 'Of all who have written against Huber, no one has treated him with more unfairness, misrepresentation, and I might almost add, malignity, than Huish.', 'Of course one must have cultivated a great degree of sensitiveness to mental impressions before he will be able to receive and respond to the direction impressions in this case.', 'Of course some of the public may prefer to accept this erroneous theory, but we wish to say here positively that if any person will honestly investigate for himself, and will learn to make the demonstrations personally, he or she will soon discover that muscle reading has nothing to do with the genuine phenomena.', 'Of course, the average public performer soon discovers that the average patron of his performance attends principally to be amused, and entertained, rather than to be instructed.', 'Of law there was very little, and what there was depended almost wholly upon the party himself to enforce.']\n"
     ]
    }
   ],
   "source": [
    "print(tolabel[:10])"
   ]
  },
  {
   "cell_type": "code",
   "execution_count": 15,
   "metadata": {},
   "outputs": [
    {
     "data": {
      "text/plain": [
       "1020"
      ]
     },
     "execution_count": 15,
     "metadata": {},
     "output_type": "execute_result"
    }
   ],
   "source": [
    "len(gutenberg_figure)"
   ]
  },
  {
   "cell_type": "code",
   "execution_count": 16,
   "metadata": {},
   "outputs": [
    {
     "data": {
      "text/plain": [
       "1580"
      ]
     },
     "execution_count": 16,
     "metadata": {},
     "output_type": "execute_result"
    }
   ],
   "source": [
    "len(gutenberg_all)"
   ]
  },
  {
   "cell_type": "code",
   "execution_count": 18,
   "metadata": {},
   "outputs": [
    {
     "name": "stdout",
     "output_type": "stream",
     "text": [
      "0\n"
     ]
    }
   ],
   "source": [
    "counter = 0\n",
    "for sent in gutenberg_figure:\n",
    "    if sent in gutenberg_all:\n",
    "        counter += 1\n",
    "print(counter)"
   ]
  },
  {
   "cell_type": "code",
   "execution_count": 19,
   "metadata": {},
   "outputs": [
    {
     "data": {
      "text/plain": [
       "0     ) Finchden: a fortiori in this case; for ther...\n",
       "1    ----------------------------------------------...\n",
       "2    $1.50   Ought to make any boy happy and will f...\n",
       "3    (10) If anyone who has borrowed a sum of money...\n",
       "4    (27) If a free man dies intestate, his movable...\n",
       "5    (37) If a man holds land of the Crown by `fee-...\n",
       "6    (a) SERIOUS WOUNDS; (b) SERIOUS BLEEDING Send ...\n",
       "7    (c) _Improvised Stretcher._ When the patient s...\n",
       "8    (If the patient feels cold, leave as many blan...\n",
       "9    (The student is here advised to turn to the co...\n",
       "Name: sentence, dtype: object"
      ]
     },
     "execution_count": 19,
     "metadata": {},
     "output_type": "execute_result"
    }
   ],
   "source": [
    "gutenberg_figure[:10]"
   ]
  },
  {
   "cell_type": "code",
   "execution_count": 23,
   "metadata": {},
   "outputs": [
    {
     "data": {
      "text/plain": [
       "pandas.core.series.Series"
      ]
     },
     "execution_count": 23,
     "metadata": {},
     "output_type": "execute_result"
    }
   ],
   "source": [
    "type(gutenberg_figure)"
   ]
  },
  {
   "cell_type": "code",
   "execution_count": 28,
   "metadata": {},
   "outputs": [],
   "source": [
    "building_df = {'Sentences': tolabel}\n",
    "\n",
    "figureeight_df = pd.DataFrame(building_df)"
   ]
  },
  {
   "cell_type": "code",
   "execution_count": 30,
   "metadata": {},
   "outputs": [],
   "source": [
    "figureeight_df.to_csv('figure_eight', header=True, index=None)"
   ]
  },
  {
   "cell_type": "code",
   "execution_count": 7,
   "metadata": {},
   "outputs": [],
   "source": [
    "import pandas as pd\n",
    "gutenberg_df = pd.read_csv(r'C:\\Users\\Y\\Documents\\MILA\\ACL_Workshop_Gender_Bias_NLP\\datasets\\gutenberg\\master_df_ALL.csv')\n",
    "\n",
    "sentence = gutenberg_df['Sentences'].tolist()\n",
    "source = gutenberg_df['Source'].tolist()\n",
    "coref = gutenberg_df['Coreference'].tolist()\n",
    "gp = gutenberg_df['Gender pronoun'].tolist()\n",
    "gplink = gutenberg_df['Gender link'].tolist()\n",
    "human = gutenberg_df['Human Name'].tolist()\n",
    "gterm = gutenberg_df['Gendered term'].tolist()\n",
    "candidates = gutenberg_df['Final candidates'].tolist()\n",
    "\n",
    "duplicates = []\n",
    "c_human = []\n",
    "\n",
    "def correction_filters(previous_filter, current_filter):\n",
    "    correct_list = []\n",
    "    for i in range(0, len(previous_filter)):\n",
    "        if previous_filter[i]== current_filter[i]and current_filter[i]==1: \n",
    "            correct_list.append(1)\n",
    "        else:\n",
    "            correct_list.append(0)\n",
    "    return correct_list"
   ]
  },
  {
   "cell_type": "code",
   "execution_count": 3,
   "metadata": {},
   "outputs": [
    {
     "name": "stdout",
     "output_type": "stream",
     "text": [
      "[0, 0, 0, 0, 0, 0, 1, 0, 0, 0, 0, 0, 1, 1, 1, 0, 0, 0, 1, 0, 0, 0, 0, 0, 0, 0, 0, 0, 1, 0, 0, 0, 0, 0, 1, 0, 0, 0, 0, 1, 0, 0, 0, 0, 0, 1, 0, 0, 0, 0, 0, 0, 0, 0, 0, 1, 1, 0, 1, 0, 0, 0, 0, 0, 0, 0, 0, 0, 0, 0, 0, 0, 0, 0, 0, 0, 0, 0, 1, 0, 0, 0, 0, 0, 0, 0, 0, 0, 0, 0, 0, 0, 0, 0, 0, 0, 0, 0, 0, 0, 0, 0, 0, 0, 0, 0, 0, 0, 0, 0, 0, 0, 0, 0, 0, 0, 0, 0, 0, 0, 0, 0, 0, 0, 0, 0, 0, 0, 0, 0, 0, 0, 0, 0, 0, 0, 0, 0, 0, 1, 0, 0, 0, 1, 0, 0, 0, 0, 0, 0, 0, 1, 0, 0, 0, 0, 0, 0, 0, 0, 0, 0, 0, 0, 0, 0, 0, 0, 0, 0, 0, 0, 0, 0, 0, 0, 0, 0, 0, 0, 0, 0, 0, 0, 0, 0, 0, 0, 0, 0, 0, 0, 0, 0, 0, 0, 0, 0, 0, 0]\n"
     ]
    }
   ],
   "source": [
    "print(c_human[300:500])"
   ]
  },
  {
   "cell_type": "code",
   "execution_count": 8,
   "metadata": {},
   "outputs": [],
   "source": [
    "gp2human = correction_filters(gp,human)\n",
    "human2gterm = correction_filters(gp2human, gterm)\n",
    "gterm2gplink = correction_filters(human2gterm, gplink)"
   ]
  },
  {
   "cell_type": "code",
   "execution_count": 9,
   "metadata": {},
   "outputs": [
    {
     "name": "stdout",
     "output_type": "stream",
     "text": [
      "55965\n",
      "55965\n",
      "55965\n"
     ]
    }
   ],
   "source": [
    "print(len(gp2human))\n",
    "print(len(human2gterm))\n",
    "print(len(gterm2gplink))"
   ]
  },
  {
   "cell_type": "code",
   "execution_count": 10,
   "metadata": {},
   "outputs": [
    {
     "name": "stdout",
     "output_type": "stream",
     "text": [
      "2832\n",
      "2538\n",
      "1627\n"
     ]
    }
   ],
   "source": [
    "print(sum(gp2human))\n",
    "print(sum(human2gterm))\n",
    "print(sum(gterm2gplink))"
   ]
  },
  {
   "cell_type": "code",
   "execution_count": 11,
   "metadata": {},
   "outputs": [],
   "source": [
    "gp2gterm = correction_filters(gp, gterm)\n",
    "gterm2human = correction_filters(gp2gterm ,human)\n",
    "human2gplink = correction_filters(gterm2human, gplink)"
   ]
  },
  {
   "cell_type": "code",
   "execution_count": 13,
   "metadata": {},
   "outputs": [
    {
     "name": "stdout",
     "output_type": "stream",
     "text": [
      "55965\n",
      "55965\n",
      "55965\n"
     ]
    }
   ],
   "source": [
    "print(len(gp2gterm))\n",
    "print(len(gterm2human))\n",
    "print(len(human2gplink))"
   ]
  },
  {
   "cell_type": "code",
   "execution_count": 14,
   "metadata": {},
   "outputs": [
    {
     "name": "stdout",
     "output_type": "stream",
     "text": [
      "2657\n",
      "2538\n",
      "1627\n"
     ]
    }
   ],
   "source": [
    "print(sum(gp2gterm))\n",
    "print(sum(gterm2human))\n",
    "print(sum(human2gplink))"
   ]
  },
  {
   "cell_type": "code",
   "execution_count": 57,
   "metadata": {},
   "outputs": [
    {
     "name": "stdout",
     "output_type": "stream",
     "text": [
      "[443, 1950, 1971, 1986, 2067, 2276, 2315, 2330, 2348, 2351, 2352, 2353, 2371, 2376, 2380, 2445, 2704, 2879, 3051, 3106, 3199, 3203, 3214, 3216, 3292, 3394, 3395, 3583, 3668, 3743, 3829, 3867, 3917, 3977, 4058, 4061, 4067, 4123, 4189, 4202, 4370, 4376, 4385, 4391, 4407, 4424, 4428, 4500, 4571, 4574, 4661, 4724, 4777, 4790, 4802, 4876, 5084, 5095, 5197, 5456, 5577, 5578, 5615, 5621, 5624, 5631, 5633, 5738, 5800, 5897, 5986, 6039, 6051, 6064, 6100, 6112, 6119, 6250, 7814, 8082, 8393, 8461, 8610, 8748, 8755, 8958, 9058, 9312, 9426, 9428, 9450, 9451, 9488, 9517, 9594, 9671, 9672, 9778, 9957, 10009, 10062, 10376, 10424, 10435, 10626, 10631, 10634, 10665, 10674, 10733, 10747, 10844, 10927, 10949, 11076, 11113, 11427, 11443, 11472, 11856, 11909, 11994, 12069, 12198, 12533, 12561, 12628, 14257, 14275, 30428, 44017, 45828, 46281, 53820, 53880, 54517]\n"
     ]
    },
    {
     "data": {
      "text/plain": [
       "False"
      ]
     },
     "execution_count": 57,
     "metadata": {},
     "output_type": "execute_result"
    }
   ],
   "source": [
    "indices = []\n",
    "for i in range(0,len(sentence)):\n",
    "    if candidates[i] == 1:\n",
    "        if sentence[i] not in falsenumber:\n",
    "            indices.append(i)\n",
    "print((indices))\n",
    "sentence[443] in falsenumber"
   ]
  },
  {
   "cell_type": "code",
   "execution_count": 41,
   "metadata": {},
   "outputs": [
    {
     "name": "stdout",
     "output_type": "stream",
     "text": [
      "1580\n"
     ]
    }
   ],
   "source": [
    "gutenber_candidates = pd.read_csv(r'C:\\Users\\Y\\Documents\\MILA\\ACL_Workshop_Gender_Bias_NLP\\datasets\\gutenberg\\gutenberg_to_label.csv')\n",
    "falsenumber = gutenber_candidates['Sentence'].tolist() #1584\n",
    "print(len(falsenumber))"
   ]
  },
  {
   "cell_type": "code",
   "execution_count": 43,
   "metadata": {},
   "outputs": [
    {
     "ename": "TypeError",
     "evalue": "can't multiply sequence by non-int of type 'list'",
     "output_type": "error",
     "traceback": [
      "\u001b[1;31m---------------------------------------------------------------------------\u001b[0m",
      "\u001b[1;31mTypeError\u001b[0m                                 Traceback (most recent call last)",
      "\u001b[1;32m<ipython-input-43-920bfff43001>\u001b[0m in \u001b[0;36m<module>\u001b[1;34m()\u001b[0m\n\u001b[1;32m----> 1\u001b[1;33m \u001b[0mfinaltrue\u001b[0m \u001b[1;33m=\u001b[0m \u001b[0mcandidates\u001b[0m\u001b[1;33m*\u001b[0m\u001b[0msentence\u001b[0m\u001b[1;33m\u001b[0m\u001b[0m\n\u001b[0m",
      "\u001b[1;31mTypeError\u001b[0m: can't multiply sequence by non-int of type 'list'"
     ]
    }
   ],
   "source": [
    "finaltrue=[]\n",
    "for i in range(0, len(sentence))\n",
    "    if candidates[i] == 1:\n",
    "        finaltrue.append(sentence[i])\n",
    "    \n",
    "\n",
    "finaltrue = candidates*sentence"
   ]
  },
  {
   "cell_type": "code",
   "execution_count": 42,
   "metadata": {},
   "outputs": [
    {
     "ename": "SyntaxError",
     "evalue": "invalid syntax (<ipython-input-42-d1ed131b46c5>, line 7)",
     "output_type": "error",
     "traceback": [
      "\u001b[1;36m  File \u001b[1;32m\"<ipython-input-42-d1ed131b46c5>\"\u001b[1;36m, line \u001b[1;32m7\u001b[0m\n\u001b[1;33m    if\u001b[0m\n\u001b[1;37m       ^\u001b[0m\n\u001b[1;31mSyntaxError\u001b[0m\u001b[1;31m:\u001b[0m invalid syntax\n"
     ]
    }
   ],
   "source": [
    "duplicates = []\n",
    "duplicates = []\n",
    "finaltrue = candidates*sentence\n",
    "\n",
    "for i in range(0, len(sentences)):\n",
    "    if sentence[i] == falsenumber[i]:\n",
    "        if \n",
    "        duplicates.append(0)\n",
    "    else:\n",
    "        duplicates.append(1)\n",
    "        "
   ]
  },
  {
   "cell_type": "code",
   "execution_count": 33,
   "metadata": {},
   "outputs": [
    {
     "name": "stdout",
     "output_type": "stream",
     "text": [
      "55965\n"
     ]
    }
   ],
   "source": [
    "print(len(duplicates))"
   ]
  },
  {
   "cell_type": "code",
   "execution_count": 34,
   "metadata": {},
   "outputs": [
    {
     "name": "stdout",
     "output_type": "stream",
     "text": [
      "1491\n"
     ]
    }
   ],
   "source": [
    "print(sum(duplicates))"
   ]
  },
  {
   "cell_type": "code",
   "execution_count": 26,
   "metadata": {},
   "outputs": [
    {
     "data": {
      "text/plain": [
       "1580"
      ]
     },
     "execution_count": 26,
     "metadata": {},
     "output_type": "execute_result"
    }
   ],
   "source": [
    "len(falsenumber)"
   ]
  },
  {
   "cell_type": "code",
   "execution_count": 28,
   "metadata": {},
   "outputs": [
    {
     "data": {
      "text/plain": [
       "55965"
      ]
     },
     "execution_count": 28,
     "metadata": {},
     "output_type": "execute_result"
    }
   ],
   "source": [
    "len(candidates)"
   ]
  },
  {
   "cell_type": "code",
   "execution_count": 39,
   "metadata": {},
   "outputs": [
    {
     "name": "stdout",
     "output_type": "stream",
     "text": [
      "1627\n"
     ]
    }
   ],
   "source": [
    "print(sum(candidates))\n"
   ]
  },
  {
   "cell_type": "code",
   "execution_count": 60,
   "metadata": {},
   "outputs": [],
   "source": [
    "truesent = []\n",
    "for i in range(0, len(sentence)):\n",
    "    if candidates[i] == 1:\n",
    "        truesent.append(sentence)\n",
    "\n",
    "truetrue = {'True1627': truesent }\n",
    "\n",
    "df_true = pd.DataFrame(truetrue)\n",
    "        "
   ]
  },
  {
   "cell_type": "code",
   "execution_count": 62,
   "metadata": {},
   "outputs": [
    {
     "ename": "OSError",
     "evalue": "[Errno 28] No space left on device",
     "output_type": "error",
     "traceback": [
      "\u001b[1;31m---------------------------------------------------------------------------\u001b[0m",
      "\u001b[1;31mOSError\u001b[0m                                   Traceback (most recent call last)",
      "\u001b[1;32m<ipython-input-62-f45c54bd3892>\u001b[0m in \u001b[0;36m<module>\u001b[1;34m()\u001b[0m\n\u001b[1;32m----> 1\u001b[1;33m \u001b[0mdf_true\u001b[0m\u001b[1;33m.\u001b[0m\u001b[0mto_csv\u001b[0m\u001b[1;33m(\u001b[0m\u001b[1;34m'truefinals'\u001b[0m\u001b[1;33m,\u001b[0m \u001b[0mheader\u001b[0m\u001b[1;33m=\u001b[0m\u001b[1;32mTrue\u001b[0m\u001b[1;33m,\u001b[0m \u001b[0mindex\u001b[0m\u001b[1;33m=\u001b[0m\u001b[1;32mNone\u001b[0m\u001b[1;33m)\u001b[0m\u001b[1;33m\u001b[0m\u001b[0m\n\u001b[0m",
      "\u001b[1;32m~\\Anaconda3\\envs\\py36\\lib\\site-packages\\pandas\\core\\frame.py\u001b[0m in \u001b[0;36mto_csv\u001b[1;34m(self, path_or_buf, sep, na_rep, float_format, columns, header, index, index_label, mode, encoding, compression, quoting, quotechar, line_terminator, chunksize, tupleize_cols, date_format, doublequote, escapechar, decimal)\u001b[0m\n\u001b[0;32m   1743\u001b[0m                                  \u001b[0mdoublequote\u001b[0m\u001b[1;33m=\u001b[0m\u001b[0mdoublequote\u001b[0m\u001b[1;33m,\u001b[0m\u001b[1;33m\u001b[0m\u001b[0m\n\u001b[0;32m   1744\u001b[0m                                  escapechar=escapechar, decimal=decimal)\n\u001b[1;32m-> 1745\u001b[1;33m         \u001b[0mformatter\u001b[0m\u001b[1;33m.\u001b[0m\u001b[0msave\u001b[0m\u001b[1;33m(\u001b[0m\u001b[1;33m)\u001b[0m\u001b[1;33m\u001b[0m\u001b[0m\n\u001b[0m\u001b[0;32m   1746\u001b[0m \u001b[1;33m\u001b[0m\u001b[0m\n\u001b[0;32m   1747\u001b[0m         \u001b[1;32mif\u001b[0m \u001b[0mpath_or_buf\u001b[0m \u001b[1;32mis\u001b[0m \u001b[1;32mNone\u001b[0m\u001b[1;33m:\u001b[0m\u001b[1;33m\u001b[0m\u001b[0m\n",
      "\u001b[1;32m~\\Anaconda3\\envs\\py36\\lib\\site-packages\\pandas\\io\\formats\\csvs.py\u001b[0m in \u001b[0;36msave\u001b[1;34m(self)\u001b[0m\n\u001b[0;32m    149\u001b[0m                 \u001b[0mself\u001b[0m\u001b[1;33m.\u001b[0m\u001b[0mwriter\u001b[0m \u001b[1;33m=\u001b[0m \u001b[0mUnicodeWriter\u001b[0m\u001b[1;33m(\u001b[0m\u001b[0mf\u001b[0m\u001b[1;33m,\u001b[0m \u001b[1;33m**\u001b[0m\u001b[0mwriter_kwargs\u001b[0m\u001b[1;33m)\u001b[0m\u001b[1;33m\u001b[0m\u001b[0m\n\u001b[0;32m    150\u001b[0m \u001b[1;33m\u001b[0m\u001b[0m\n\u001b[1;32m--> 151\u001b[1;33m             \u001b[0mself\u001b[0m\u001b[1;33m.\u001b[0m\u001b[0m_save\u001b[0m\u001b[1;33m(\u001b[0m\u001b[1;33m)\u001b[0m\u001b[1;33m\u001b[0m\u001b[0m\n\u001b[0m\u001b[0;32m    152\u001b[0m \u001b[1;33m\u001b[0m\u001b[0m\n\u001b[0;32m    153\u001b[0m         \u001b[1;32mfinally\u001b[0m\u001b[1;33m:\u001b[0m\u001b[1;33m\u001b[0m\u001b[0m\n",
      "\u001b[1;32m~\\Anaconda3\\envs\\py36\\lib\\site-packages\\pandas\\io\\formats\\csvs.py\u001b[0m in \u001b[0;36m_save\u001b[1;34m(self)\u001b[0m\n\u001b[0;32m    261\u001b[0m                 \u001b[1;32mbreak\u001b[0m\u001b[1;33m\u001b[0m\u001b[0m\n\u001b[0;32m    262\u001b[0m \u001b[1;33m\u001b[0m\u001b[0m\n\u001b[1;32m--> 263\u001b[1;33m             \u001b[0mself\u001b[0m\u001b[1;33m.\u001b[0m\u001b[0m_save_chunk\u001b[0m\u001b[1;33m(\u001b[0m\u001b[0mstart_i\u001b[0m\u001b[1;33m,\u001b[0m \u001b[0mend_i\u001b[0m\u001b[1;33m)\u001b[0m\u001b[1;33m\u001b[0m\u001b[0m\n\u001b[0m\u001b[0;32m    264\u001b[0m \u001b[1;33m\u001b[0m\u001b[0m\n\u001b[0;32m    265\u001b[0m     \u001b[1;32mdef\u001b[0m \u001b[0m_save_chunk\u001b[0m\u001b[1;33m(\u001b[0m\u001b[0mself\u001b[0m\u001b[1;33m,\u001b[0m \u001b[0mstart_i\u001b[0m\u001b[1;33m,\u001b[0m \u001b[0mend_i\u001b[0m\u001b[1;33m)\u001b[0m\u001b[1;33m:\u001b[0m\u001b[1;33m\u001b[0m\u001b[0m\n",
      "\u001b[1;32m~\\Anaconda3\\envs\\py36\\lib\\site-packages\\pandas\\io\\formats\\csvs.py\u001b[0m in \u001b[0;36m_save_chunk\u001b[1;34m(self, start_i, end_i)\u001b[0m\n\u001b[0;32m    288\u001b[0m \u001b[1;33m\u001b[0m\u001b[0m\n\u001b[0;32m    289\u001b[0m         libwriters.write_csv_rows(self.data, ix, self.nlevels,\n\u001b[1;32m--> 290\u001b[1;33m                                   self.cols, self.writer)\n\u001b[0m",
      "\u001b[1;32mpandas\\_libs\\writers.pyx\u001b[0m in \u001b[0;36mpandas._libs.writers.write_csv_rows\u001b[1;34m()\u001b[0m\n",
      "\u001b[1;31mOSError\u001b[0m: [Errno 28] No space left on device"
     ]
    }
   ],
   "source": [
    "df_true.to_csv('truefinals', header=True, index=None)"
   ]
  },
  {
   "cell_type": "code",
   "execution_count": null,
   "metadata": {},
   "outputs": [],
   "source": []
  }
 ],
 "metadata": {
  "kernelspec": {
   "display_name": "Python 3",
   "language": "python",
   "name": "python3"
  },
  "language_info": {
   "codemirror_mode": {
    "name": "ipython",
    "version": 3
   },
   "file_extension": ".py",
   "mimetype": "text/x-python",
   "name": "python",
   "nbconvert_exporter": "python",
   "pygments_lexer": "ipython3",
   "version": "3.6.5"
  }
 },
 "nbformat": 4,
 "nbformat_minor": 2
}
