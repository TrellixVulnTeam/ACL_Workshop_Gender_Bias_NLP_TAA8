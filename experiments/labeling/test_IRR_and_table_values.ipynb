{
 "cells": [
  {
   "cell_type": "code",
   "execution_count": 28,
   "metadata": {},
   "outputs": [],
   "source": [
    "## Imports\n",
    "import pandas as pd\n",
    "import numpy as np\n",
    "\n",
    "## Load data \n",
    "\n",
    "df = pd.read_csv(r'C:\\Users\\Y\\Documents\\MILA\\ACL_Workshop_Gender_Bias_NLP\\experiments\\labeling\\labeling_allraw.csv') # results labelers\n",
    "df2 = pd.read_csv(r'C:\\Users\\Y\\Documents\\MILA\\50_50_to_label_gutenberg_180_Yasmeen.csv') # results A Y C\n",
    "\n",
    "## Split columns and make into lists\n",
    "\n",
    "label = df['label'].tolist()\n",
    "sentence = df['sentences'].tolist()\n",
    "\n",
    "label1 = df2['label1'].tolist()\n",
    "label2 = df2['label2'].tolist()\n",
    "label3 = df2['label3'].tolist()\n",
    "label4 = df2['label4'].tolist() # Figure eight\n",
    "\n",
    "sentence_df2 = df2['sentence'].tolist()\n"
   ]
  },
  {
   "cell_type": "code",
   "execution_count": 29,
   "metadata": {},
   "outputs": [
    {
     "name": "stdout",
     "output_type": "stream",
     "text": [
      "[[1, 1, 0], [0, 0, 0], [0, 0, 0], [0, 0, 0], [0, 1, 0], [1, 0, 1], [1, 1, 1], [1, 1, 1], [1, 1, 1], [0, 0, 0]]\n",
      "[['Nothing appears more plausible at first sight, nor more ill-founded upon close inspection, than a scheme which in relation to the present point has had some respectable advocates--I mean that of continuing the chief magistrate in office for a certain time, and then excluding him from it, either for a limited period or forever after.', 'Nothing appears more plausible at first sight, nor more ill-founded upon close inspection, than a scheme which in relation to the present point has had some respectable advocates--I mean that of continuing the chief magistrate in office for a certain time, and then excluding him from it, either for a limited period or forever after.', 'Nothing appears more plausible at first sight, nor more ill-founded upon close inspection, than a scheme which in relation to the present point has had some respectable advocates--I mean that of continuing the chief magistrate in office for a certain time, and then excluding him from it, either for a limited period or forever after.'], [\"Now lift the patient's feet over the roll of fresh and soiled linen to the freshly made part, then have her roll her body over that side.\", \"Now lift the patient's feet over the roll of fresh and soiled linen to the freshly made part, then have her roll her body over that side.\", \"Now lift the patient's feet over the roll of fresh and soiled linen to the freshly made part, then have her roll her body over that side.\"], ['Now, I said, if you will take the trouble to move that wood pile you will find in it the remains of the rabbit half devoured and the mink himself.', 'Now, I said, if you will take the trouble to move that wood pile you will find in it the remains of the rabbit half devoured and the mink himself.', 'Now, I said, if you will take the trouble to move that wood pile you will find in it the remains of the rabbit half devoured and the mink himself.'], ['Nowadays a man is bound at his peril to keep his cattle from trespassing, and he is liable for damage done by his dog or by any fierce animal, if he has notice of a tendency in the brute to do the harm complained of.', 'Nowadays a man is bound at his peril to keep his cattle from trespassing, and he is liable for damage done by his dog or by any fierce animal, if he has notice of a tendency in the brute to do the harm complained of.', 'Nowadays a man is bound at his peril to keep his cattle from trespassing, and he is liable for damage done by his dog or by any fierce animal, if he has notice of a tendency in the brute to do the harm complained of.'], ['Occasionally, a wingless queen is so bent on emigrating, that in spite of her inability to fly, she tries to go off with a swarm; she has a will, but contrary to the old maxim she can find no way, but helplessly falls upon the ground instead of gaily mounting into the air.', 'Occasionally, a wingless queen is so bent on emigrating, that in spite of her inability to fly, she tries to go off with a swarm; she has a will, but contrary to the old maxim she can find no way, but helplessly falls upon the ground instead of gaily mounting into the air.', 'Occasionally, a wingless queen is so bent on emigrating, that in spite of her inability to fly, she tries to go off with a swarm; she has a will, but contrary to the old maxim she can find no way, but helplessly falls upon the ground instead of gaily mounting into the air.'], ['Of all who have written against Huber, no one has treated him with more unfairness, misrepresentation, and I might almost add, malignity, than Huish.', 'Of all who have written against Huber, no one has treated him with more unfairness, misrepresentation, and I might almost add, malignity, than Huish.', 'Of all who have written against Huber, no one has treated him with more unfairness, misrepresentation, and I might almost add, malignity, than Huish.'], ['Of course one must have cultivated a great degree of sensitiveness to mental impressions before he will be able to receive and respond to the direction impressions in this case.', 'Of course one must have cultivated a great degree of sensitiveness to mental impressions before he will be able to receive and respond to the direction impressions in this case.', 'Of course one must have cultivated a great degree of sensitiveness to mental impressions before he will be able to receive and respond to the direction impressions in this case.'], ['Of course some of the public may prefer to accept this erroneous theory, but we wish to say here positively that if any person will honestly investigate for himself, and will learn to make the demonstrations personally, he or she will soon discover that muscle reading has nothing to do with the genuine phenomena.', 'Of course some of the public may prefer to accept this erroneous theory, but we wish to say here positively that if any person will honestly investigate for himself, and will learn to make the demonstrations personally, he or she will soon discover that muscle reading has nothing to do with the genuine phenomena.', 'Of course some of the public may prefer to accept this erroneous theory, but we wish to say here positively that if any person will honestly investigate for himself, and will learn to make the demonstrations personally, he or she will soon discover that muscle reading has nothing to do with the genuine phenomena.'], ['Of course, the average public performer soon discovers that the average patron of his performance attends principally to be amused, and entertained, rather than to be instructed.', 'Of course, the average public performer soon discovers that the average patron of his performance attends principally to be amused, and entertained, rather than to be instructed.', 'Of course, the average public performer soon discovers that the average patron of his performance attends principally to be amused, and entertained, rather than to be instructed.'], ['Of law there was very little, and what there was depended almost wholly upon the party himself to enforce.', 'Of law there was very little, and what there was depended almost wholly upon the party himself to enforce.', 'Of law there was very little, and what there was depended almost wholly upon the party himself to enforce.']]\n"
     ]
    }
   ],
   "source": [
    "## Create list of lists of labels and sentences (For df)\n",
    "\n",
    "list_labels = [label[i:i+3] for i in range(0, len(label),3)]\n",
    "list_sentences = [sentence[i:i+3] for i in range(0, len(label),3)]\n",
    "\n",
    "## Verification \n",
    "print(list_labels[0:10])\n",
    "print(list_sentences[0:10])\n"
   ]
  },
  {
   "cell_type": "code",
   "execution_count": 31,
   "metadata": {},
   "outputs": [
    {
     "name": "stdout",
     "output_type": "stream",
     "text": [
      "['Nothing appears more plausible at first sight, nor more ill-founded upon close inspection, than a scheme which in relation to the present point has had some respectable advocates--I mean that of continuing the chief magistrate in office for a certain time, and then excluding him from it, either for a limited period or forever after.', \"Now lift the patient's feet over the roll of fresh and soiled linen to the freshly made part, then have her roll her body over that side.\", 'Now, I said, if you will take the trouble to move that wood pile you will find in it the remains of the rabbit half devoured and the mink himself.', 'Nowadays a man is bound at his peril to keep his cattle from trespassing, and he is liable for damage done by his dog or by any fierce animal, if he has notice of a tendency in the brute to do the harm complained of.', 'Occasionally, a wingless queen is so bent on emigrating, that in spite of her inability to fly, she tries to go off with a swarm; she has a will, but contrary to the old maxim she can find no way, but helplessly falls upon the ground instead of gaily mounting into the air.', 'Of all who have written against Huber, no one has treated him with more unfairness, misrepresentation, and I might almost add, malignity, than Huish.', 'Of course one must have cultivated a great degree of sensitiveness to mental impressions before he will be able to receive and respond to the direction impressions in this case.', 'Of course some of the public may prefer to accept this erroneous theory, but we wish to say here positively that if any person will honestly investigate for himself, and will learn to make the demonstrations personally, he or she will soon discover that muscle reading has nothing to do with the genuine phenomena.', 'Of course, the average public performer soon discovers that the average patron of his performance attends principally to be amused, and entertained, rather than to be instructed.', 'Of law there was very little, and what there was depended almost wholly upon the party himself to enforce.']\n",
      "['However, in a recent civil suit, a United States District Court judge asserted his belief, by way of dictum, that protection against unreasonable searches and seizures, invasion of freedom of speech and press, unlawful and unwarranted incarcerations, arrests, and _failure to allow reasonable bail_ would all be fundamental rights protected by [the Fourteenth] Amendment from State invasion.', '(27) If a free man dies intestate, his movable goods are to be distributed by his next-of-kin and friends, under the supervision of the Church.', '(a) SERIOUS WOUNDS; (b) SERIOUS BLEEDING Send for the doctor at once, and then stop the bleeding and keep as clean as possible till he arrives.', '*       *       *       *       * The women of Oregon have raised a statue to this young explorer, and there she stands in Portland, facing the Coast, pointing to the Columbia River where it reaches the sea.', '* * * When a suspect speaks because he is overborne, it is immaterial whether he has been subjected to a physical or a mental ordeal.', \"* * *[958] However, a conviction before a mayor's court does not become constitutionally defective by reason of the fact that the fixed salary of the mayor is paid out of the fund to which the fines imposed by him contribute.\", '* All fines that have been given to us unjustly and against the law of the land, and all fines that we have exacted unjustly, shall be entirely remitted or the matter decided by a majority judgement of the twenty-five barons referred to below in the clause for securing the peace together with Stephen, archbishop of Canterbury, if he can be present, and such others as he wishes to bring with him.', '; and every good citizen should lend his hand to help in every way possible the enforcement of law in each department.', '[105] One such relationship is that of a stockholder and his corporation.', '[1058] But, as shown above, a naturalized citizen is subject at any time to have his good faith in taking the oath of allegiance to the United States inquired into, and to lose his citizenship if lack of such faith is shown in proper proceedings.']\n"
     ]
    }
   ],
   "source": [
    "## create empty list (for df)\n",
    "good_sent = []\n",
    "\n",
    "## keep only one of 3 sentences\n",
    "for sent_l in list_sentences:\n",
    "    good_sent.append(sent_l[0])\n",
    "\n",
    "## Verify there are no duplicates\n",
    "print(good_sent[0:10])\n",
    "print(sentence_df2[0:10])\n"
   ]
  },
  {
   "cell_type": "code",
   "execution_count": 34,
   "metadata": {},
   "outputs": [
    {
     "name": "stdout",
     "output_type": "stream",
     "text": [
      "labels 1580\n",
      "sentences 1580\n"
     ]
    }
   ],
   "source": [
    "#For df\n",
    "print('labels',len(list_labels))\n",
    "print('sentences', len(good_sent))"
   ]
  },
  {
   "cell_type": "code",
   "execution_count": 32,
   "metadata": {},
   "outputs": [
    {
     "name": "stdout",
     "output_type": "stream",
     "text": [
      "[[0, 0, 0], [0, 0, 0], [0, 1, 1], [0, 0, 0], [1, 1, 1], [1, 1, 1], [0, 0, 0], [1, 1, 1], [1, 1, 1], [1, 1, 1]]\n",
      "[0, 0, 0, 0, 1, 1, 0, 1, 1, 1]\n"
     ]
    }
   ],
   "source": [
    "## For df2 column 1, 2 ,3 need to be in one list\n",
    "new_labels = []\n",
    "for index, rows in df2.iterrows():\n",
    "    label_list = [rows.label1, rows.label2, rows.label3]\n",
    "    new_labels.append(label_list)\n",
    "print(new_labels[0:10])\n",
    "\n",
    "final_label = []\n",
    "\n",
    "def final_label_YAC(lists):\n",
    "    for x in lists:\n",
    "        if sum(x) > 2:\n",
    "            final_label.append(1)\n",
    "        else:\n",
    "            final_label.append(0)\n",
    "    return final_label\n",
    "\n",
    "label5 = final_label_YAC(new_labels)\n",
    "print(label5[0:10])"
   ]
  },
  {
   "cell_type": "code",
   "execution_count": 18,
   "metadata": {},
   "outputs": [],
   "source": [
    "## function to seperate list of lists and create columns per judgement of sentence\n",
    "def new_list(list_labels,i):   # i indicates position\n",
    "    one_of_three = []\n",
    "    for judges in list_labels:\n",
    "        one_of_three.append(judges[i])\n",
    "    \n",
    "    return one_of_three    "
   ]
  },
  {
   "cell_type": "code",
   "execution_count": 36,
   "metadata": {},
   "outputs": [
    {
     "name": "stdout",
     "output_type": "stream",
     "text": [
      "1580\n",
      "1580\n",
      "1580\n"
     ]
    }
   ],
   "source": [
    "## Creation of lists for different judgements per sentence\n",
    "\n",
    "j1 = new_list(list_labels, 0)\n",
    "j2 = new_list(list_labels, 1)\n",
    "j3 = new_list(list_labels, 2)\n",
    "\n",
    "## Validation\n",
    "print(len(j1))\n",
    "print(len(j2))\n",
    "print(len(j3))"
   ]
  },
  {
   "cell_type": "code",
   "execution_count": 8,
   "metadata": {},
   "outputs": [],
   "source": [
    "## Creation of lists for inter judgements agreement\n",
    "def inter_j(x,y):\n",
    "    c = []\n",
    "    for i in range(0, len(x)):\n",
    "        if x[i]==y[i]:\n",
    "            c.append(1)\n",
    "        else:\n",
    "            c.append(0)\n",
    "    return c"
   ]
  },
  {
   "cell_type": "code",
   "execution_count": 40,
   "metadata": {},
   "outputs": [
    {
     "name": "stdout",
     "output_type": "stream",
     "text": [
      "1580\n",
      "1580\n",
      "1580\n",
      "[1, 1, 1, 1, 0, 0, 1, 1, 1, 1]\n",
      "[0, 1, 1, 1, 0, 0, 1, 1, 1, 1]\n",
      "[0, 1, 1, 1, 1, 1, 1, 1, 1, 1]\n"
     ]
    }
   ],
   "source": [
    "## Creation of new lists of inter agreements\n",
    "j1_j2 = inter_j(j1,j2)\n",
    "j2_j3 = inter_j(j2,j3)\n",
    "j1_j3 = inter_j(j1,j3)\n",
    "\n",
    "## Verify same length\n",
    "print(len(j1_j2))\n",
    "print(len(j2_j3))\n",
    "print(len(j1_j3))\n",
    "\n",
    "## Verify content of lists\n",
    "print(j1_j2[0:10])\n",
    "print(j2_j3[0:10])\n",
    "print(j1_j3[0:10])"
   ]
  },
  {
   "cell_type": "code",
   "execution_count": 33,
   "metadata": {},
   "outputs": [
    {
     "name": "stdout",
     "output_type": "stream",
     "text": [
      "180\n",
      "180\n",
      "180\n",
      "180\n",
      "[1, 1, 0, 1, 1, 1, 1, 1, 1, 1]\n",
      "[1, 1, 1, 1, 1, 1, 1, 1, 1, 1]\n",
      "[1, 1, 0, 1, 1, 1, 1, 1, 1, 1]\n",
      "[1, 1, 0, 1, 1, 1, 1, 1, 1, 1]\n"
     ]
    }
   ],
   "source": [
    "## Creation of new lists of inter agreements df2\n",
    "Y_A = inter_j(label1,label2)\n",
    "A_C = inter_j(label2,label3)\n",
    "Y_C = inter_j(label1,label3)\n",
    "ALL_label4 = inter_j(label4, label5)\n",
    "\n",
    "## Verify same length df2\n",
    "print(len(Y_A))\n",
    "print(len(A_C))\n",
    "print(len(Y_C))\n",
    "print(len(ALL_label4))\n",
    "\n",
    "## Verify content of lists df2\n",
    "print(Y_A[0:10])\n",
    "print(A_C[0:10])\n",
    "print(Y_C[0:10])\n",
    "print(ALL_label4[0:10])"
   ]
  },
  {
   "cell_type": "code",
   "execution_count": null,
   "metadata": {},
   "outputs": [],
   "source": [
    "## Create agreement column\n",
    "agree_list = []\n",
    "for i in range(0, len(j1_j2)):\n",
    "    agree = sum([j1_j2[i],j2_j3[i],j1_j3[i]])/3\n",
    "    agree_list.append(agree)\n",
    "\n",
    "print(len(agree_list))\n",
    "print(agree_list[0:10])\n",
    "\n",
    "irr_a = sum(agree_list)/len(agree_list)*100\n",
    "print('inter rater reliability df', irr_a)\n"
   ]
  },
  {
   "cell_type": "code",
   "execution_count": 34,
   "metadata": {},
   "outputs": [
    {
     "name": "stdout",
     "output_type": "stream",
     "text": [
      "180\n",
      "[1.0, 1.0, 0.3333333333333333, 1.0, 1.0, 1.0, 1.0, 1.0, 1.0, 1.0]\n",
      "inter rater reliability df2  85.55555555555554\n"
     ]
    }
   ],
   "source": [
    "## Create agreement column df2\n",
    "agree_list2 = []\n",
    "for i in range(0, len(Y_A)):\n",
    "    agree2 = sum([Y_A[i],A_C[i],Y_C[i]])/3\n",
    "    agree_list2.append(agree2)\n",
    "\n",
    "print(len(agree_list2))\n",
    "print(agree_list2[0:10])\n",
    "\n",
    "irr_a2 = sum(agree_list2)/len(agree_list2)*100\n",
    "print('inter rater reliability df2 ', irr_a2)\n",
    "    "
   ]
  },
  {
   "cell_type": "code",
   "execution_count": 36,
   "metadata": {},
   "outputs": [
    {
     "name": "stdout",
     "output_type": "stream",
     "text": [
      "180\n",
      "[1.0, 1.0, 0.3333333333333333, 1.0, 1.0, 1.0, 1.0, 1.0, 1.0, 1.0]\n",
      "inter rater reliability df3  43.05555555555556\n"
     ]
    }
   ],
   "source": [
    "## Create agreement column ALL_LABEL4\n",
    "agree_list3 = []\n",
    "for i in range(0, len(ALL_label4)):\n",
    "    agree3 = sum([ALL_label4[i]])/2\n",
    "    agree_list3.append(agree3)\n",
    "\n",
    "print(len(agree_list3))\n",
    "print(agree_list2[0:10])\n",
    "\n",
    "irr_a3 = sum(agree_list3)/len(agree_list3)*100\n",
    "print('inter rater reliability df3 ', irr_a3)"
   ]
  },
  {
   "cell_type": "code",
   "execution_count": 41,
   "metadata": {},
   "outputs": [],
   "source": [
    "## Create dataframe for our new labelsh\n",
    "df_newnew = {'sentence': sentence_df2, 'YAC Average': label5, 'Labeler Average': label4}\n",
    "\n",
    "final_df = pd.DataFrame(df_newnew)\n",
    "final_df.to_csv( r'C:\\Users\\Y\\Documents\\MILA\\final_labels+YAC_figure8.csv', header=True, index=None)\n",
    "\n"
   ]
  },
  {
   "cell_type": "code",
   "execution_count": 38,
   "metadata": {},
   "outputs": [
    {
     "ename": "NameError",
     "evalue": "name 'j1' is not defined",
     "output_type": "error",
     "traceback": [
      "\u001b[1;31m---------------------------------------------------------------------------\u001b[0m",
      "\u001b[1;31mNameError\u001b[0m                                 Traceback (most recent call last)",
      "\u001b[1;32m<ipython-input-38-92c07fa7390d>\u001b[0m in \u001b[0;36m<module>\u001b[1;34m()\u001b[0m\n\u001b[0;32m      1\u001b[0m \u001b[1;31m## Create dataframe\u001b[0m\u001b[1;33m\u001b[0m\u001b[1;33m\u001b[0m\u001b[0m\n\u001b[0;32m      2\u001b[0m \u001b[1;33m\u001b[0m\u001b[0m\n\u001b[1;32m----> 3\u001b[1;33m \u001b[0mdf_new\u001b[0m \u001b[1;33m=\u001b[0m \u001b[1;33m{\u001b[0m\u001b[1;34m'sentences'\u001b[0m\u001b[1;33m:\u001b[0m \u001b[0mgood_sent\u001b[0m\u001b[1;33m,\u001b[0m \u001b[1;34m'j1'\u001b[0m\u001b[1;33m:\u001b[0m \u001b[0mj1\u001b[0m\u001b[1;33m,\u001b[0m \u001b[1;34m'j2'\u001b[0m\u001b[1;33m:\u001b[0m \u001b[0mj2\u001b[0m\u001b[1;33m,\u001b[0m \u001b[1;34m'j3'\u001b[0m\u001b[1;33m:\u001b[0m \u001b[0mj3\u001b[0m\u001b[1;33m,\u001b[0m \u001b[1;34m'j1/j2'\u001b[0m\u001b[1;33m:\u001b[0m \u001b[0mj1_j2\u001b[0m\u001b[1;33m,\u001b[0m \u001b[1;34m'j2_j3'\u001b[0m\u001b[1;33m:\u001b[0m \u001b[0mj2_j3\u001b[0m\u001b[1;33m,\u001b[0m \u001b[1;34m'j1/j3'\u001b[0m\u001b[1;33m:\u001b[0m \u001b[0mj1_j3\u001b[0m\u001b[1;33m}\u001b[0m\u001b[1;33m\u001b[0m\u001b[0m\n\u001b[0m",
      "\u001b[1;31mNameError\u001b[0m: name 'j1' is not defined"
     ]
    }
   ],
   "source": [
    "## Create dataframe \n",
    "\n",
    "df_new = {'sentences': good_sent, 'j1': j1, 'j2': j2, 'j3': j3, 'j1/j2': j1_j2, 'j2_j3': j2_j3, 'j1/j3': j1_j3}\n"
   ]
  },
  {
   "cell_type": "code",
   "execution_count": 46,
   "metadata": {},
   "outputs": [
    {
     "ename": "SyntaxError",
     "evalue": "EOL while scanning string literal (<ipython-input-46-83409b270d82>, line 27)",
     "output_type": "error",
     "traceback": [
      "\u001b[1;36m  File \u001b[1;32m\"<ipython-input-46-83409b270d82>\"\u001b[1;36m, line \u001b[1;32m27\u001b[0m\n\u001b[1;33m    BusinessHints = candidate_source('Business Hints for men and women\u001b[0m\n\u001b[1;37m                                                                      ^\u001b[0m\n\u001b[1;31mSyntaxError\u001b[0m\u001b[1;31m:\u001b[0m EOL while scanning string literal\n"
     ]
    }
   ],
   "source": [
    "## Imports\n",
    "import pandas as pd\n",
    "import numpy as np\n",
    "\n",
    "## Load data \n",
    "\n",
    "df = pd.read_csv(r'C:\\Users\\Y\\Documents\\MILA\\ACL_Workshop_Gender_Bias_NLP\\datasets\\gutenberg\\master_df_ALL.csv')\n",
    "\n",
    "## Split columns and make into lists\n",
    "\n",
    "source = df['source'].tolist()\n",
    "sentence = df['Sentences'].tolist()\n",
    "candidates = df['Final candidates'].tolist()\n",
    "\n",
    "def candidate_source(x):\n",
    "    s_source = 0\n",
    "    c_source = []\n",
    "    for i in range(0,len(sentence)):\n",
    "        if source == x:\n",
    "            s_source +=1\n",
    "            if sentence[i]==candidates[1]:\n",
    "                c_source +=1\n",
    "    print(\"number of sentence of source: \",x,\"are: \",s_source)\n",
    "    print(\"number of candidates per source: \",x,\"are: \",c_source)\n",
    "    return s_source, c_source\n",
    "\n",
    "BusinessHints = candidate_source('Business Hints for men and women\n",
    "')                \n",
    "    \n",
    "    \n"
   ]
  },
  {
   "cell_type": "code",
   "execution_count": 8,
   "metadata": {},
   "outputs": [],
   "source": [
    "import pandas as pd\n",
    "import numpy as np\n",
    "\n",
    "\n",
    "m1 = [[1,1,1],[2,2,2],[3,3,3]]\n",
    "m2 = [[1,1,1],[2,2,2],[3,3,3]]\n",
    "new_matrix = []\n",
    "\n",
    "def multi_matrix(matrix1, matrix2):\n",
    "   \n",
    "    for rows in range(len(matrix1)):\n",
    "        for column in range(len(matrix2[0])):\n",
    "            new_matrix = [0:len(rows)]*[0:len(column)]\n",
    "            for row in range(len(matrix2)):\n",
    "                matrix1[len(rows)][len(row)] * matrix2[len(row)][len(column)]\n",
    "                new_matrix[rows][column] = matrix1[rows][row] * matrix2[row][column]\n",
    "    \n"
   ]
  },
  {
   "cell_type": "code",
   "execution_count": 14,
   "metadata": {},
   "outputs": [
    {
     "name": "stdout",
     "output_type": "stream",
     "text": [
      "[[], [], [], []]\n"
     ]
    }
   ],
   "source": [
    "#multi_matrix(m1,m2)\n",
    "#new_matrix = [0:len(rows)]*[0:len(column)]\n",
    "rows = 3\n",
    "column = 4\n",
    "new_m = [[]*rows]*column\n",
    "#new_matrix = [0:len(rows)]*[0:len(column)]\n",
    "print(new_m)"
   ]
  },
  {
   "cell_type": "markdown",
   "metadata": {},
   "source": [
    "m1 = [[1,1,1],[2,2,2],[3,3,3]]\n",
    "m2 = [[1,1,1],[2,2,2],[3,3,3]]\n",
    "new_m =[[0*len(matrix1[0])]*len(matrix2)]\n",
    "\n",
    "print(new_m)"
   ]
  },
  {
   "cell_type": "code",
   "execution_count": 23,
   "metadata": {},
   "outputs": [],
   "source": [
    "m1 = [[1,1,1],[2,2,2],[3,3,3]]\n",
    "m2 = [[1,1,1],[2,2,2],[3,3,3]]\n",
    "new = [[0*len(m2[0])]*len(m1)]\n"
   ]
  },
  {
   "cell_type": "code",
   "execution_count": 24,
   "metadata": {},
   "outputs": [
    {
     "name": "stdout",
     "output_type": "stream",
     "text": [
      "[[0, 0, 0], [0, 0, 0], [0, 0, 0]]\n"
     ]
    }
   ],
   "source": [
    "print(new)"
   ]
  },
  {
   "cell_type": "code",
   "execution_count": null,
   "metadata": {},
   "outputs": [],
   "source": [
    "create_e = []"
   ]
  }
 ],
 "metadata": {
  "kernelspec": {
   "display_name": "Python 3",
   "language": "python",
   "name": "python3"
  },
  "language_info": {
   "codemirror_mode": {
    "name": "ipython",
    "version": 3
   },
   "file_extension": ".py",
   "mimetype": "text/x-python",
   "name": "python",
   "nbconvert_exporter": "python",
   "pygments_lexer": "ipython3",
   "version": "3.6.5"
  }
 },
 "nbformat": 4,
 "nbformat_minor": 2
}
