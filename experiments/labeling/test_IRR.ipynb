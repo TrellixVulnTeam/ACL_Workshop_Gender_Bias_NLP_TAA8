{
 "cells": [
  {
   "cell_type": "code",
   "execution_count": 3,
   "metadata": {},
   "outputs": [],
   "source": [
    "## Imports\n",
    "import pandas as pd\n",
    "import numpy as np\n",
    "\n",
    "## Load data \n",
    "\n",
    "df = pd.read_csv(r'C:\\Users\\Y\\Documents\\MILA\\ACL_Workshop_Gender_Bias_NLP\\experiments\\labeling\\labeling_allraw.csv')\n",
    "\n",
    "## Split columns and make into lists\n",
    "\n",
    "label = df['label'].tolist()\n",
    "sentence = df['sentences'].tolist()"
   ]
  },
  {
   "cell_type": "code",
   "execution_count": 12,
   "metadata": {},
   "outputs": [
    {
     "name": "stdout",
     "output_type": "stream",
     "text": [
      "[[1, 1, 0], [0, 0, 0], [0, 0, 0], [0, 0, 0], [0, 1, 0], [1, 0, 1], [1, 1, 1], [1, 1, 1], [1, 1, 1], [0, 0, 0]]\n",
      "[['Nothing appears more plausible at first sight, nor more ill-founded upon close inspection, than a scheme which in relation to the present point has had some respectable advocates--I mean that of continuing the chief magistrate in office for a certain time, and then excluding him from it, either for a limited period or forever after.', 'Nothing appears more plausible at first sight, nor more ill-founded upon close inspection, than a scheme which in relation to the present point has had some respectable advocates--I mean that of continuing the chief magistrate in office for a certain time, and then excluding him from it, either for a limited period or forever after.', 'Nothing appears more plausible at first sight, nor more ill-founded upon close inspection, than a scheme which in relation to the present point has had some respectable advocates--I mean that of continuing the chief magistrate in office for a certain time, and then excluding him from it, either for a limited period or forever after.'], [\"Now lift the patient's feet over the roll of fresh and soiled linen to the freshly made part, then have her roll her body over that side.\", \"Now lift the patient's feet over the roll of fresh and soiled linen to the freshly made part, then have her roll her body over that side.\", \"Now lift the patient's feet over the roll of fresh and soiled linen to the freshly made part, then have her roll her body over that side.\"], ['Now, I said, if you will take the trouble to move that wood pile you will find in it the remains of the rabbit half devoured and the mink himself.', 'Now, I said, if you will take the trouble to move that wood pile you will find in it the remains of the rabbit half devoured and the mink himself.', 'Now, I said, if you will take the trouble to move that wood pile you will find in it the remains of the rabbit half devoured and the mink himself.'], ['Nowadays a man is bound at his peril to keep his cattle from trespassing, and he is liable for damage done by his dog or by any fierce animal, if he has notice of a tendency in the brute to do the harm complained of.', 'Nowadays a man is bound at his peril to keep his cattle from trespassing, and he is liable for damage done by his dog or by any fierce animal, if he has notice of a tendency in the brute to do the harm complained of.', 'Nowadays a man is bound at his peril to keep his cattle from trespassing, and he is liable for damage done by his dog or by any fierce animal, if he has notice of a tendency in the brute to do the harm complained of.'], ['Occasionally, a wingless queen is so bent on emigrating, that in spite of her inability to fly, she tries to go off with a swarm; she has a will, but contrary to the old maxim she can find no way, but helplessly falls upon the ground instead of gaily mounting into the air.', 'Occasionally, a wingless queen is so bent on emigrating, that in spite of her inability to fly, she tries to go off with a swarm; she has a will, but contrary to the old maxim she can find no way, but helplessly falls upon the ground instead of gaily mounting into the air.', 'Occasionally, a wingless queen is so bent on emigrating, that in spite of her inability to fly, she tries to go off with a swarm; she has a will, but contrary to the old maxim she can find no way, but helplessly falls upon the ground instead of gaily mounting into the air.'], ['Of all who have written against Huber, no one has treated him with more unfairness, misrepresentation, and I might almost add, malignity, than Huish.', 'Of all who have written against Huber, no one has treated him with more unfairness, misrepresentation, and I might almost add, malignity, than Huish.', 'Of all who have written against Huber, no one has treated him with more unfairness, misrepresentation, and I might almost add, malignity, than Huish.'], ['Of course one must have cultivated a great degree of sensitiveness to mental impressions before he will be able to receive and respond to the direction impressions in this case.', 'Of course one must have cultivated a great degree of sensitiveness to mental impressions before he will be able to receive and respond to the direction impressions in this case.', 'Of course one must have cultivated a great degree of sensitiveness to mental impressions before he will be able to receive and respond to the direction impressions in this case.'], ['Of course some of the public may prefer to accept this erroneous theory, but we wish to say here positively that if any person will honestly investigate for himself, and will learn to make the demonstrations personally, he or she will soon discover that muscle reading has nothing to do with the genuine phenomena.', 'Of course some of the public may prefer to accept this erroneous theory, but we wish to say here positively that if any person will honestly investigate for himself, and will learn to make the demonstrations personally, he or she will soon discover that muscle reading has nothing to do with the genuine phenomena.', 'Of course some of the public may prefer to accept this erroneous theory, but we wish to say here positively that if any person will honestly investigate for himself, and will learn to make the demonstrations personally, he or she will soon discover that muscle reading has nothing to do with the genuine phenomena.'], ['Of course, the average public performer soon discovers that the average patron of his performance attends principally to be amused, and entertained, rather than to be instructed.', 'Of course, the average public performer soon discovers that the average patron of his performance attends principally to be amused, and entertained, rather than to be instructed.', 'Of course, the average public performer soon discovers that the average patron of his performance attends principally to be amused, and entertained, rather than to be instructed.'], ['Of law there was very little, and what there was depended almost wholly upon the party himself to enforce.', 'Of law there was very little, and what there was depended almost wholly upon the party himself to enforce.', 'Of law there was very little, and what there was depended almost wholly upon the party himself to enforce.']]\n"
     ]
    }
   ],
   "source": [
    "## Create list of lists of labels and sentences\n",
    "\n",
    "list_labels = [label[i:i+3] for i in range(0, len(label),3)]\n",
    "list_sentences = [sentence[i:i+3] for i in range(0, len(label),3)]\n",
    "\n",
    "## Verification \n",
    "print(list_labels[0:10])\n",
    "print(list_sentences[0:10])\n"
   ]
  },
  {
   "cell_type": "code",
   "execution_count": 33,
   "metadata": {},
   "outputs": [
    {
     "name": "stdout",
     "output_type": "stream",
     "text": [
      "['Nothing appears more plausible at first sight, nor more ill-founded upon close inspection, than a scheme which in relation to the present point has had some respectable advocates--I mean that of continuing the chief magistrate in office for a certain time, and then excluding him from it, either for a limited period or forever after.', \"Now lift the patient's feet over the roll of fresh and soiled linen to the freshly made part, then have her roll her body over that side.\", 'Now, I said, if you will take the trouble to move that wood pile you will find in it the remains of the rabbit half devoured and the mink himself.', 'Nowadays a man is bound at his peril to keep his cattle from trespassing, and he is liable for damage done by his dog or by any fierce animal, if he has notice of a tendency in the brute to do the harm complained of.', 'Occasionally, a wingless queen is so bent on emigrating, that in spite of her inability to fly, she tries to go off with a swarm; she has a will, but contrary to the old maxim she can find no way, but helplessly falls upon the ground instead of gaily mounting into the air.', 'Of all who have written against Huber, no one has treated him with more unfairness, misrepresentation, and I might almost add, malignity, than Huish.', 'Of course one must have cultivated a great degree of sensitiveness to mental impressions before he will be able to receive and respond to the direction impressions in this case.', 'Of course some of the public may prefer to accept this erroneous theory, but we wish to say here positively that if any person will honestly investigate for himself, and will learn to make the demonstrations personally, he or she will soon discover that muscle reading has nothing to do with the genuine phenomena.', 'Of course, the average public performer soon discovers that the average patron of his performance attends principally to be amused, and entertained, rather than to be instructed.', 'Of law there was very little, and what there was depended almost wholly upon the party himself to enforce.']\n"
     ]
    }
   ],
   "source": [
    "## create empty list\n",
    "good_sent = []\n",
    "\n",
    "## keep only one of 3 sentences\n",
    "for sent_l in list_sentences:\n",
    "    good_sent.append(sent_l[0])\n",
    "\n",
    "## Verify there are no duplicates\n",
    "print(good_sent[0:10])\n"
   ]
  },
  {
   "cell_type": "code",
   "execution_count": 34,
   "metadata": {},
   "outputs": [
    {
     "name": "stdout",
     "output_type": "stream",
     "text": [
      "labels 1580\n",
      "sentences 1580\n"
     ]
    }
   ],
   "source": [
    "print('labels',len(list_labels))\n",
    "print('sentences', len(good_sent))"
   ]
  },
  {
   "cell_type": "code",
   "execution_count": 35,
   "metadata": {},
   "outputs": [],
   "source": [
    "## function to seperate list of lists and create columns per judgement of sentence\n",
    "def new_list(list_labels,i):   # i indicates position\n",
    "    one_of_three = []\n",
    "    for judges in list_labels:\n",
    "        one_of_three.append(judges[i])\n",
    "    \n",
    "    return one_of_three    "
   ]
  },
  {
   "cell_type": "code",
   "execution_count": 36,
   "metadata": {},
   "outputs": [
    {
     "name": "stdout",
     "output_type": "stream",
     "text": [
      "1580\n",
      "1580\n",
      "1580\n"
     ]
    }
   ],
   "source": [
    "## Creation of lists for different judgements per sentence\n",
    "\n",
    "j1 = new_list(list_labels, 0)\n",
    "j2 = new_list(list_labels, 1)\n",
    "j3 = new_list(list_labels, 2)\n",
    "\n",
    "## Validation\n",
    "print(len(j1))\n",
    "print(len(j2))\n",
    "print(len(j3))"
   ]
  },
  {
   "cell_type": "code",
   "execution_count": 38,
   "metadata": {},
   "outputs": [],
   "source": [
    "## Creation of lists for inter judgements agreement\n",
    "def inter_j(x,y):\n",
    "    c = []\n",
    "    for i in range(0, len(x)):\n",
    "        if x[i]==y[i]:\n",
    "            c.append(1)\n",
    "        else:\n",
    "            c.append(0)\n",
    "    return c"
   ]
  },
  {
   "cell_type": "code",
   "execution_count": 40,
   "metadata": {},
   "outputs": [
    {
     "name": "stdout",
     "output_type": "stream",
     "text": [
      "1580\n",
      "1580\n",
      "1580\n",
      "[1, 1, 1, 1, 0, 0, 1, 1, 1, 1]\n",
      "[0, 1, 1, 1, 0, 0, 1, 1, 1, 1]\n",
      "[0, 1, 1, 1, 1, 1, 1, 1, 1, 1]\n"
     ]
    }
   ],
   "source": [
    "## Creation of new lists of inter agreements\n",
    "j1_j2 = inter_j(j1,j2)\n",
    "j2_j3 = inter_j(j2,j3)\n",
    "j1_j3 = inter_j(j1,j3)\n",
    "\n",
    "## Verify same length\n",
    "print(len(j1_j2))\n",
    "print(len(j2_j3))\n",
    "print(len(j1_j3))\n",
    "\n",
    "## Verify content of lists\n",
    "print(j1_j2[0:10])\n",
    "print(j2_j3[0:10])\n",
    "print(j1_j3[0:10])"
   ]
  },
  {
   "cell_type": "code",
   "execution_count": 43,
   "metadata": {},
   "outputs": [
    {
     "name": "stdout",
     "output_type": "stream",
     "text": [
      "1580\n",
      "[0.3333333333333333, 1.0, 1.0, 1.0, 0.3333333333333333, 0.3333333333333333, 1.0, 1.0, 1.0, 1.0]\n",
      "inter rater reliability 61.13924050632982\n"
     ]
    }
   ],
   "source": [
    "## Create agreement column\n",
    "agree_list = []\n",
    "for i in range(0, len(j1_j2)):\n",
    "    agree = sum([j1_j2[i],j2_j3[i],j1_j3[i]])/3\n",
    "    agree_list.append(agree)\n",
    "\n",
    "print(len(agree_list))\n",
    "print(agree_list[0:10])\n",
    "\n",
    "irr_a = sum(agree_list)/len(agree_list)*100\n",
    "print('inter rater reliability', irr_a)\n",
    "    "
   ]
  },
  {
   "cell_type": "code",
   "execution_count": null,
   "metadata": {},
   "outputs": [],
   "source": [
    "## Create dataframe \n",
    "\n",
    "df2 = {'sentences': good_sent, 'j1': j1, 'j2': j2, 'j3': j3, 'j1/j2': j1_j2, 'j2_j3': j2_j3, 'j1/j3': j1_j3}\n"
   ]
  }
 ],
 "metadata": {
  "kernelspec": {
   "display_name": "Python 3",
   "language": "python",
   "name": "python3"
  },
  "language_info": {
   "codemirror_mode": {
    "name": "ipython",
    "version": 3
   },
   "file_extension": ".py",
   "mimetype": "text/x-python",
   "name": "python",
   "nbconvert_exporter": "python",
   "pygments_lexer": "ipython3",
   "version": "3.6.5"
  }
 },
 "nbformat": 4,
 "nbformat_minor": 2
}
