{
 "cells": [
  {
   "cell_type": "code",
   "execution_count": 5,
   "metadata": {
    "collapsed": true
   },
   "outputs": [],
   "source": [
    "from nltk import ne_chunk, pos_tag\n",
    "from nltk.tokenize import sent_tokenize, word_tokenize\n",
    "#from nltk.stem import WordNetLemmatizer\n",
    "#wn_lem = WordNetLemmatizer() # wn_lem.lemmatize()\n",
    "\n",
    "\n",
    "sent = \"WASHINGTON-- In the wake of a string of abuses by New York police officers in the 1990s, she, Loretta E. Lynch, the top federal prosecutor in Brooklyn, spoke forcefully about the pain of a broken trust that African-Americans felt and said the responsibility for repairing generations of miscommunication and mistrust fell to law enforcement she.\"\n",
    "\n",
    "\"\"\"\n",
    "    Input: (data, word_range, which_type)\n",
    "        data - one sentence\n",
    "        word_range - a nested list of clusters with their ranges (ie. [[[0,0],[0,19]],[[19,19],[59,59]]])\n",
    "        which_type - one of (\"name\", \"pro\", \"both\"/nothing)\n",
    "        \n",
    "    return case: \n",
    "        1. if which_type == \"name\" and the function returns True >> THERE IS NAME LINK >> REMOVE\n",
    "        2. if which_type == \"pro\" and function returns True >> ALL LINKS ARE PRONOUN >> REMOVE\n",
    "        3. if which_type not given and function returns Ture >> \n",
    "                (there is either or both NAME LINK OR ALL THE LINKS ARE PRONOUNS) >> REMOVE\n",
    "        4. if the function returns False >> NO NAME LINK and ALL LINKS ARE NOT PRONOUNS >> KEEP\n",
    "                   \n",
    "\"\"\"\n",
    "\n",
    "def check_remove(data, word_range, which_type=\"both\"):\n",
    "    \n",
    "    pro_lst = [\"he\", \"she\", \"him\", \"her\", \"his\", \"hers\", \"himself\", \"herself\"]\n",
    "    name_lst = []\n",
    "    result = []\n",
    "    tok = word_tokenize(data)\n",
    "\n",
    "    # Check all the instances of human names in the sentence and build \"name_lst\"\n",
    "    for sent_chunk in ne_chunk(pos_tag(word_tokenize(data))):\n",
    "        if hasattr(sent_chunk, 'label'):\n",
    "            if (sent_chunk.label() == \"PERSON\"):\n",
    "                name_lst.append(' '.join(c[0] for c in sent_chunk))\n",
    "\n",
    "    for cluster in word_range:\n",
    "        if (which_type == \"name\"): # check if the cluster has name link\n",
    "            result.append(any([(' '.join(w for w in tok[c[0]:c[1]+1])) in name_lst for c in cluster]))\n",
    "            \n",
    "        elif (which_type == \"pro\"): # check if the cluster has only pronoun links\n",
    "            result.append(all([((c[0] == c[1]) and (tok[c[0]]).lower() in pro_lst) for c in cluster]))\n",
    "            \n",
    "        else: # check both conditions at the same time\n",
    "            result.append(any([any([(' '.join(w for w in tok[c[0]:c[1]+1])) in name_lst for c in cluster]),\n",
    "                   all([((c[0] == c[1]) and (tok[c[0]]).lower() in pro_lst) for c in cluster])]))\n",
    "    \n",
    "    return any(result)\n"
   ]
  },
  {
   "cell_type": "code",
   "execution_count": 10,
   "metadata": {},
   "outputs": [
    {
     "data": {
      "text/plain": [
       "True"
      ]
     },
     "execution_count": 10,
     "metadata": {},
     "output_type": "execute_result"
    }
   ],
   "source": [
    "check_remove(sent, [[[0,0],[0,19]],[[19,19],[59,59]]], \"name\")\n",
    "\n",
    "check_remove(sent, [[[21,23],[19,19]],[[19,19],[59,59]]], \"pro\")\n",
    "#check_remove(sent, [[[19,19],[59,59]]], \"pro\")\n",
    "check_remove(sent, [[[21,23]]])"
   ]
  },
  {
   "cell_type": "code",
   "execution_count": null,
   "metadata": {
    "collapsed": true
   },
   "outputs": [],
   "source": []
  },
  {
   "cell_type": "code",
   "execution_count": null,
   "metadata": {
    "collapsed": true
   },
   "outputs": [],
   "source": []
  }
 ],
 "metadata": {
  "kernelspec": {
   "display_name": "Python 3",
   "language": "python",
   "name": "python3"
  },
  "language_info": {
   "codemirror_mode": {
    "name": "ipython",
    "version": 3
   },
   "file_extension": ".py",
   "mimetype": "text/x-python",
   "name": "python",
   "nbconvert_exporter": "python",
   "pygments_lexer": "ipython3",
   "version": "3.6.8"
  }
 },
 "nbformat": 4,
 "nbformat_minor": 2
}
