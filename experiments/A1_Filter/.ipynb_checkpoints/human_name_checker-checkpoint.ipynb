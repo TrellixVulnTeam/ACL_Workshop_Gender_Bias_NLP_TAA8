{
 "cells": [
  {
   "cell_type": "code",
   "execution_count": 205,
   "metadata": {
    "collapsed": true
   },
   "outputs": [],
   "source": [
    "from nltk import ne_chunk, pos_tag\n",
    "from nltk.tokenize import sent_tokenize, word_tokenize\n",
    " \n",
    "sent = \"WASHINGTON-- In the wake of a string of abuses by New York police officers in the 1990s, Loretta E. Lynch, the top federal prosecutor in Brooklyn, spoke forcefully about the pain of a broken trust that African-Americans felt and said the responsibility for repairing generations of miscommunication and mistrust fell to law enforcement.\"\n",
    "\n",
    "\"\"\"\n",
    "# Returns true if the chunks of words in the range is human name in the sentence\n",
    "    Input(data, name_range)\n",
    "        data: one sentence\n",
    "        name_range: range(exclusive) of words provided by allenNLP\n",
    "                    ie. if the words are in indices 10,11,12 -> range is (10:13)\n",
    "\"\"\"\n",
    "\n",
    "def check_name(data, name_range):\n",
    "    lst = []\n",
    "    tok = word_tokenize(data)\n",
    "    \n",
    "    # Check all the instances of human names in the sentence\n",
    "    for sent_chunk in ne_chunk(pos_tag(word_tokenize(data))):\n",
    "        if hasattr(sent_chunk, 'label'):\n",
    "            if (sent_chunk.label() == \"PERSON\"):\n",
    "                lst.append(' '.join(c[0] for c in sent_chunk))\n",
    "                \n",
    "    # If the word or chunks of words in given range is one of the names found in above step, return true\n",
    "    if (' '.join(w for w in tok[name_range[0]:name_range[1]])) in lst:\n",
    "        return True\n",
    "    return False\n"
   ]
  },
  {
   "cell_type": "code",
   "execution_count": 209,
   "metadata": {},
   "outputs": [
    {
     "data": {
      "text/plain": [
       "True"
      ]
     },
     "execution_count": 209,
     "metadata": {},
     "output_type": "execute_result"
    }
   ],
   "source": [
    "check_name(sent, (19,22))\n",
    "#check_name(sent, (19,19))"
   ]
  },
  {
   "cell_type": "code",
   "execution_count": null,
   "metadata": {
    "collapsed": true
   },
   "outputs": [],
   "source": []
  }
 ],
 "metadata": {
  "kernelspec": {
   "display_name": "Python 3",
   "language": "python",
   "name": "python3"
  },
  "language_info": {
   "codemirror_mode": {
    "name": "ipython",
    "version": 3
   },
   "file_extension": ".py",
   "mimetype": "text/x-python",
   "name": "python",
   "nbconvert_exporter": "python",
   "pygments_lexer": "ipython3",
   "version": "3.6.8"
  }
 },
 "nbformat": 4,
 "nbformat_minor": 2
}
